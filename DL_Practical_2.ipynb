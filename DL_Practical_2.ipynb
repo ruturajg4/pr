{
  "cells": [
    {
      "cell_type": "code",
      "execution_count": null,
      "metadata": {
        "colab": {
          "base_uri": "https://localhost:8080/"
        },
        "id": "Bd-Yj6y6eJQB",
        "outputId": "a5fed48b-0e39-44dd-d8cb-27a46e353976"
      },
      "outputs": [
        {
          "name": "stdout",
          "output_type": "stream",
          "text": [
            "Epoch 1/20\n",
            "\u001b[1m485/485\u001b[0m \u001b[32m━━━━━━━━━━━━━━━━━━━━\u001b[0m\u001b[37m\u001b[0m \u001b[1m5s\u001b[0m 4ms/step - accuracy: 0.5217 - loss: 0.7298 - mean_absolute_error: 0.5077 - mean_squared_error: 0.2669 - val_accuracy: 0.6804 - val_loss: 0.6422 - val_mean_absolute_error: 0.4674 - val_mean_squared_error: 0.2255\n",
            "Epoch 2/20\n",
            "\u001b[1m485/485\u001b[0m \u001b[32m━━━━━━━━━━━━━━━━━━━━\u001b[0m\u001b[37m\u001b[0m \u001b[1m1s\u001b[0m 2ms/step - accuracy: 0.7249 - loss: 0.6223 - mean_absolute_error: 0.4551 - mean_squared_error: 0.2152 - val_accuracy: 0.8144 - val_loss: 0.5444 - val_mean_absolute_error: 0.4119 - val_mean_squared_error: 0.1799\n",
            "Epoch 3/20\n",
            "\u001b[1m485/485\u001b[0m \u001b[32m━━━━━━━━━━━━━━━━━━━━\u001b[0m\u001b[37m\u001b[0m \u001b[1m1s\u001b[0m 2ms/step - accuracy: 0.8325 - loss: 0.5173 - mean_absolute_error: 0.3929 - mean_squared_error: 0.1666 - val_accuracy: 0.8804 - val_loss: 0.4536 - val_mean_absolute_error: 0.3518 - val_mean_squared_error: 0.1405\n",
            "Epoch 4/20\n",
            "\u001b[1m485/485\u001b[0m \u001b[32m━━━━━━━━━━━━━━━━━━━━\u001b[0m\u001b[37m\u001b[0m \u001b[1m1s\u001b[0m 2ms/step - accuracy: 0.8646 - loss: 0.4412 - mean_absolute_error: 0.3399 - mean_squared_error: 0.1341 - val_accuracy: 0.8928 - val_loss: 0.3833 - val_mean_absolute_error: 0.2982 - val_mean_squared_error: 0.1129\n",
            "Epoch 5/20\n",
            "\u001b[1m485/485\u001b[0m \u001b[32m━━━━━━━━━━━━━━━━━━━━\u001b[0m\u001b[37m\u001b[0m \u001b[1m1s\u001b[0m 2ms/step - accuracy: 0.8925 - loss: 0.3755 - mean_absolute_error: 0.2864 - mean_squared_error: 0.1078 - val_accuracy: 0.8969 - val_loss: 0.3354 - val_mean_absolute_error: 0.2569 - val_mean_squared_error: 0.0963\n",
            "Epoch 6/20\n",
            "\u001b[1m485/485\u001b[0m \u001b[32m━━━━━━━━━━━━━━━━━━━━\u001b[0m\u001b[37m\u001b[0m \u001b[1m2s\u001b[0m 2ms/step - accuracy: 0.9092 - loss: 0.3215 - mean_absolute_error: 0.2410 - mean_squared_error: 0.0887 - val_accuracy: 0.9031 - val_loss: 0.3030 - val_mean_absolute_error: 0.2270 - val_mean_squared_error: 0.0864\n",
            "Epoch 7/20\n",
            "\u001b[1m485/485\u001b[0m \u001b[32m━━━━━━━━━━━━━━━━━━━━\u001b[0m\u001b[37m\u001b[0m \u001b[1m1s\u001b[0m 3ms/step - accuracy: 0.9071 - loss: 0.2954 - mean_absolute_error: 0.2147 - mean_squared_error: 0.0803 - val_accuracy: 0.9175 - val_loss: 0.2789 - val_mean_absolute_error: 0.2049 - val_mean_squared_error: 0.0793\n",
            "Epoch 8/20\n",
            "\u001b[1m485/485\u001b[0m \u001b[32m━━━━━━━━━━━━━━━━━━━━\u001b[0m\u001b[37m\u001b[0m \u001b[1m2s\u001b[0m 2ms/step - accuracy: 0.9144 - loss: 0.2724 - mean_absolute_error: 0.1942 - mean_squared_error: 0.0739 - val_accuracy: 0.9216 - val_loss: 0.2592 - val_mean_absolute_error: 0.1867 - val_mean_squared_error: 0.0737\n",
            "Epoch 9/20\n",
            "\u001b[1m485/485\u001b[0m \u001b[32m━━━━━━━━━━━━━━━━━━━━\u001b[0m\u001b[37m\u001b[0m \u001b[1m1s\u001b[0m 2ms/step - accuracy: 0.9170 - loss: 0.2458 - mean_absolute_error: 0.1761 - mean_squared_error: 0.0661 - val_accuracy: 0.9258 - val_loss: 0.2427 - val_mean_absolute_error: 0.1725 - val_mean_squared_error: 0.0691\n",
            "Epoch 10/20\n",
            "\u001b[1m485/485\u001b[0m \u001b[32m━━━━━━━━━━━━━━━━━━━━\u001b[0m\u001b[37m\u001b[0m \u001b[1m1s\u001b[0m 2ms/step - accuracy: 0.9120 - loss: 0.2515 - mean_absolute_error: 0.1708 - mean_squared_error: 0.0686 - val_accuracy: 0.9258 - val_loss: 0.2288 - val_mean_absolute_error: 0.1603 - val_mean_squared_error: 0.0654\n",
            "Epoch 11/20\n",
            "\u001b[1m485/485\u001b[0m \u001b[32m━━━━━━━━━━━━━━━━━━━━\u001b[0m\u001b[37m\u001b[0m \u001b[1m1s\u001b[0m 2ms/step - accuracy: 0.9194 - loss: 0.2324 - mean_absolute_error: 0.1572 - mean_squared_error: 0.0639 - val_accuracy: 0.9299 - val_loss: 0.2170 - val_mean_absolute_error: 0.1506 - val_mean_squared_error: 0.0622\n",
            "Epoch 12/20\n",
            "\u001b[1m485/485\u001b[0m \u001b[32m━━━━━━━━━━━━━━━━━━━━\u001b[0m\u001b[37m\u001b[0m \u001b[1m1s\u001b[0m 2ms/step - accuracy: 0.9188 - loss: 0.2370 - mean_absolute_error: 0.1522 - mean_squared_error: 0.0651 - val_accuracy: 0.9299 - val_loss: 0.2072 - val_mean_absolute_error: 0.1425 - val_mean_squared_error: 0.0597\n",
            "Epoch 13/20\n",
            "\u001b[1m485/485\u001b[0m \u001b[32m━━━━━━━━━━━━━━━━━━━━\u001b[0m\u001b[37m\u001b[0m \u001b[1m1s\u001b[0m 2ms/step - accuracy: 0.9321 - loss: 0.1978 - mean_absolute_error: 0.1335 - mean_squared_error: 0.0528 - val_accuracy: 0.9340 - val_loss: 0.1992 - val_mean_absolute_error: 0.1357 - val_mean_squared_error: 0.0577\n",
            "Epoch 14/20\n",
            "\u001b[1m485/485\u001b[0m \u001b[32m━━━━━━━━━━━━━━━━━━━━\u001b[0m\u001b[37m\u001b[0m \u001b[1m1s\u001b[0m 2ms/step - accuracy: 0.9257 - loss: 0.1954 - mean_absolute_error: 0.1314 - mean_squared_error: 0.0534 - val_accuracy: 0.9361 - val_loss: 0.1930 - val_mean_absolute_error: 0.1301 - val_mean_squared_error: 0.0564\n",
            "Epoch 15/20\n",
            "\u001b[1m485/485\u001b[0m \u001b[32m━━━━━━━━━━━━━━━━━━━━\u001b[0m\u001b[37m\u001b[0m \u001b[1m2s\u001b[0m 3ms/step - accuracy: 0.9214 - loss: 0.2098 - mean_absolute_error: 0.1318 - mean_squared_error: 0.0575 - val_accuracy: 0.9340 - val_loss: 0.1877 - val_mean_absolute_error: 0.1255 - val_mean_squared_error: 0.0552\n",
            "Epoch 16/20\n",
            "\u001b[1m485/485\u001b[0m \u001b[32m━━━━━━━━━━━━━━━━━━━━\u001b[0m\u001b[37m\u001b[0m \u001b[1m4s\u001b[0m 5ms/step - accuracy: 0.9291 - loss: 0.1756 - mean_absolute_error: 0.1160 - mean_squared_error: 0.0482 - val_accuracy: 0.9361 - val_loss: 0.1830 - val_mean_absolute_error: 0.1217 - val_mean_squared_error: 0.0542\n",
            "Epoch 17/20\n",
            "\u001b[1m485/485\u001b[0m \u001b[32m━━━━━━━━━━━━━━━━━━━━\u001b[0m\u001b[37m\u001b[0m \u001b[1m2s\u001b[0m 4ms/step - accuracy: 0.9226 - loss: 0.1866 - mean_absolute_error: 0.1202 - mean_squared_error: 0.0520 - val_accuracy: 0.9361 - val_loss: 0.1792 - val_mean_absolute_error: 0.1181 - val_mean_squared_error: 0.0534\n",
            "Epoch 18/20\n",
            "\u001b[1m485/485\u001b[0m \u001b[32m━━━━━━━━━━━━━━━━━━━━\u001b[0m\u001b[37m\u001b[0m \u001b[1m2s\u001b[0m 2ms/step - accuracy: 0.9231 - loss: 0.1919 - mean_absolute_error: 0.1163 - mean_squared_error: 0.0525 - val_accuracy: 0.9340 - val_loss: 0.1761 - val_mean_absolute_error: 0.1154 - val_mean_squared_error: 0.0527\n",
            "Epoch 19/20\n",
            "\u001b[1m485/485\u001b[0m \u001b[32m━━━━━━━━━━━━━━━━━━━━\u001b[0m\u001b[37m\u001b[0m \u001b[1m2s\u001b[0m 4ms/step - accuracy: 0.9271 - loss: 0.1912 - mean_absolute_error: 0.1164 - mean_squared_error: 0.0539 - val_accuracy: 0.9340 - val_loss: 0.1735 - val_mean_absolute_error: 0.1128 - val_mean_squared_error: 0.0523\n",
            "Epoch 20/20\n",
            "\u001b[1m485/485\u001b[0m \u001b[32m━━━━━━━━━━━━━━━━━━━━\u001b[0m\u001b[37m\u001b[0m \u001b[1m2s\u001b[0m 3ms/step - accuracy: 0.9343 - loss: 0.1806 - mean_absolute_error: 0.1087 - mean_squared_error: 0.0498 - val_accuracy: 0.9340 - val_loss: 0.1713 - val_mean_absolute_error: 0.1107 - val_mean_squared_error: 0.0518\n",
            "\u001b[1m16/16\u001b[0m \u001b[32m━━━━━━━━━━━━━━━━━━━━\u001b[0m\u001b[37m\u001b[0m \u001b[1m0s\u001b[0m 3ms/step - accuracy: 0.9411 - loss: 0.1576 - mean_absolute_error: 0.1000 - mean_squared_error: 0.0459 \n",
            "Binary Crossentropy Loss: 0.1713\n",
            "Test Accuracy: 0.9340\n",
            "Mean Squared Error (MSE): 0.0556\n",
            "Mean Absolute Error (MAE): 0.1160\n"
          ]
        }
      ],
      "source": [
        "#creating functions to compute various losses\n",
        "import pandas as pd\n",
        "import numpy as np\n",
        "from sklearn.model_selection import train_test_split\n",
        "from sklearn.preprocessing import LabelEncoder, StandardScaler\n",
        "import tensorflow as tf\n",
        "from tensorflow.keras.models import Sequential\n",
        "from tensorflow.keras.layers import Dense, Input\n",
        "from tensorflow.keras.optimizers import Adam\n",
        "from tensorflow.keras.losses import BinaryCrossentropy, MeanSquaredError, MeanAbsoluteError\n",
        "\n",
        "# Step 1: Load the dataset\n",
        "df = pd.read_csv(\"medium_data.csv\")\n",
        "\n",
        "# Step 2: Drop unnecessary columns\n",
        "df.drop(columns=['id', 'url', 'title', 'subtitle', 'date'], inplace=True)\n",
        "\n",
        "# Step 3: Handle missing values (if any)\n",
        "df.dropna(inplace=True)\n",
        "\n",
        "# Step 4: Create binary target column\n",
        "df['popular'] = (df['claps'] >= 500).astype(int)\n",
        "\n",
        "# Step 5: Encode categorical columns\n",
        "label_encoder = LabelEncoder()\n",
        "df['publication'] = label_encoder.fit_transform(df['publication'])\n",
        "\n",
        "# Step 6: Separate features and target\n",
        "X = df[['responses', 'reading_time', 'publication']]\n",
        "y = df['popular']\n",
        "\n",
        "# Step 7: Train-test split\n",
        "X_train, X_test, y_train, y_test = train_test_split(X, y, test_size=0.2, random_state=42)\n",
        "\n",
        "# Step 8: Scale features\n",
        "scaler = StandardScaler()\n",
        "X_train = scaler.fit_transform(X_train).astype('float32')\n",
        "X_test = scaler.transform(X_test).astype('float32')\n",
        "\n",
        "# Step 9: Build the model\n",
        "model = Sequential([\n",
        "    Input(shape=(X_train.shape[1],)),\n",
        "    Dense(10, activation='relu'),\n",
        "    Dense(8, activation='relu'),\n",
        "    Dense(1, activation='sigmoid')  # binary classification\n",
        "])\n",
        "\n",
        "# Step 10: Compile the model\n",
        "optimizer = Adam(learning_rate=1e-4, clipnorm=1.0)\n",
        "model.compile(optimizer=optimizer,\n",
        "              loss=BinaryCrossentropy(),\n",
        "              metrics=['accuracy', MeanSquaredError(), MeanAbsoluteError()])\n",
        "\n",
        "# Step 11: Train the model\n",
        "model.fit(X_train, y_train, epochs=20, batch_size=4, validation_data=(X_test, y_test), verbose=1)\n",
        "\n",
        "# Step 12: Evaluate the model\n",
        "loss_bce, accuracy, mse, mae = model.evaluate(X_test, y_test)\n",
        "\n",
        "print(f\"Binary Crossentropy Loss: {loss_bce:.4f}\")\n",
        "print(f\"Test Accuracy: {accuracy:.4f}\")\n",
        "print(f\"Mean Squared Error (MSE): {mse:.4f}\")\n",
        "print(f\"Mean Absolute Error (MAE): {mae:.4f}\")\n"
      ]
    },
    {
      "cell_type": "code",
      "execution_count": null,
      "metadata": {
        "id": "5kkP_95hf2Iw"
      },
      "outputs": [],
      "source": []
    }
  ],
  "metadata": {
    "colab": {
      "provenance": []
    },
    "kernelspec": {
      "display_name": "Python 3",
      "name": "python3"
    },
    "language_info": {
      "name": "python"
    }
  },
  "nbformat": 4,
  "nbformat_minor": 0
}
