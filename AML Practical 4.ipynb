{
 "cells": [
  {
   "cell_type": "code",
   "execution_count": 4,
   "id": "6d930700",
   "metadata": {},
   "outputs": [],
   "source": [
    "# Shreya Dhole\n",
    "# Practical No: 04 (Part A)"
   ]
  },
  {
   "cell_type": "code",
   "execution_count": 11,
   "id": "8e19e838",
   "metadata": {},
   "outputs": [],
   "source": [
    "import pandas as pd"
   ]
  },
  {
   "cell_type": "code",
   "execution_count": 12,
   "id": "b257a2cb",
   "metadata": {},
   "outputs": [],
   "source": [
    "df = pd.read_csv(\"Day1.csv\")"
   ]
  },
  {
   "cell_type": "code",
   "execution_count": 13,
   "id": "14365d80",
   "metadata": {},
   "outputs": [
    {
     "name": "stdout",
     "output_type": "stream",
     "text": [
      "Requirement already satisfied: mlxtend in c:\\users\\administrator\\anaconda3\\lib\\site-packages (0.23.4)\n",
      "Requirement already satisfied: scipy>=1.2.1 in c:\\users\\administrator\\anaconda3\\lib\\site-packages (from mlxtend) (1.10.1)\n",
      "Requirement already satisfied: numpy>=1.16.2 in c:\\users\\administrator\\anaconda3\\lib\\site-packages (from mlxtend) (1.24.3)\n",
      "Requirement already satisfied: pandas>=0.24.2 in c:\\users\\administrator\\anaconda3\\lib\\site-packages (from mlxtend) (1.5.3)\n",
      "Requirement already satisfied: scikit-learn>=1.3.1 in c:\\users\\administrator\\anaconda3\\lib\\site-packages (from mlxtend) (1.6.1)\n",
      "Requirement already satisfied: matplotlib>=3.0.0 in c:\\users\\administrator\\anaconda3\\lib\\site-packages (from mlxtend) (3.7.1)\n",
      "Requirement already satisfied: joblib>=0.13.2 in c:\\users\\administrator\\anaconda3\\lib\\site-packages (from mlxtend) (1.2.0)\n",
      "Requirement already satisfied: contourpy>=1.0.1 in c:\\users\\administrator\\anaconda3\\lib\\site-packages (from matplotlib>=3.0.0->mlxtend) (1.0.5)\n",
      "Requirement already satisfied: cycler>=0.10 in c:\\users\\administrator\\anaconda3\\lib\\site-packages (from matplotlib>=3.0.0->mlxtend) (0.11.0)\n",
      "Requirement already satisfied: fonttools>=4.22.0 in c:\\users\\administrator\\anaconda3\\lib\\site-packages (from matplotlib>=3.0.0->mlxtend) (4.25.0)\n",
      "Requirement already satisfied: kiwisolver>=1.0.1 in c:\\users\\administrator\\anaconda3\\lib\\site-packages (from matplotlib>=3.0.0->mlxtend) (1.4.4)\n",
      "Requirement already satisfied: packaging>=20.0 in c:\\users\\administrator\\anaconda3\\lib\\site-packages (from matplotlib>=3.0.0->mlxtend) (23.0)\n",
      "Requirement already satisfied: pillow>=6.2.0 in c:\\users\\administrator\\anaconda3\\lib\\site-packages (from matplotlib>=3.0.0->mlxtend) (9.4.0)\n",
      "Requirement already satisfied: pyparsing>=2.3.1 in c:\\users\\administrator\\anaconda3\\lib\\site-packages (from matplotlib>=3.0.0->mlxtend) (3.0.9)\n",
      "Requirement already satisfied: python-dateutil>=2.7 in c:\\users\\administrator\\anaconda3\\lib\\site-packages (from matplotlib>=3.0.0->mlxtend) (2.8.2)\n",
      "Requirement already satisfied: pytz>=2020.1 in c:\\users\\administrator\\anaconda3\\lib\\site-packages (from pandas>=0.24.2->mlxtend) (2022.7)\n",
      "Requirement already satisfied: threadpoolctl>=3.1.0 in c:\\users\\administrator\\anaconda3\\lib\\site-packages (from scikit-learn>=1.3.1->mlxtend) (3.6.0)\n",
      "Requirement already satisfied: six>=1.5 in c:\\users\\administrator\\anaconda3\\lib\\site-packages (from python-dateutil>=2.7->matplotlib>=3.0.0->mlxtend) (1.16.0)\n",
      "Note: you may need to restart the kernel to use updated packages.\n"
     ]
    }
   ],
   "source": [
    "pip install mlxtend"
   ]
  },
  {
   "cell_type": "code",
   "execution_count": 14,
   "id": "a351d08b",
   "metadata": {},
   "outputs": [],
   "source": [
    "from mlxtend.frequent_patterns import fpgrowth\n",
    "from mlxtend.frequent_patterns import association_rules"
   ]
  },
  {
   "cell_type": "code",
   "execution_count": 17,
   "id": "ae4e6fdd",
   "metadata": {},
   "outputs": [
    {
     "name": "stdout",
     "output_type": "stream",
     "text": [
      "EncodedData=\n",
      "     Wine_Wine  Chips_Chips  Bread_Bread  Butter_Butter  Milk_Milk  Apple_Apple\n",
      "0           1            0            1              1          1            0\n",
      "1           0            0            1              1          1            0\n",
      "2           0            1            0              0          0            1\n",
      "3           1            1            1              1          1            1\n",
      "4           1            1            0              0          1            0\n",
      "5           1            1            1              1          0            1\n",
      "6           1            1            0              0          1            0\n",
      "7           1            0            1              0          0            1\n",
      "8           1            0            1              1          1            0\n",
      "9           0            1            1              1          0            1\n",
      "10          1            0            0              1          1            1\n",
      "11          1            1            1              1          1            0\n",
      "12          1            0            1              0          1            1\n",
      "13          1            0            1              1          1            1\n",
      "14          1            1            1              1          1            1\n",
      "15          0            1            1              1          1            1\n",
      "16          0            1            0              1          1            1\n",
      "17          1            1            1              1          1            1\n",
      "18          1            0            1              1          1            1\n",
      "19          1            1            1              0          1            1\n",
      "20          0            1            0              0          0            0\n"
     ]
    }
   ],
   "source": [
    "encoded_data = pd.get_dummies(df)\n",
    "print(\"EncodedData=\\n\", encoded_data)"
   ]
  },
  {
   "cell_type": "code",
   "execution_count": 18,
   "id": "d3cdfb03",
   "metadata": {},
   "outputs": [
    {
     "name": "stderr",
     "output_type": "stream",
     "text": [
      "C:\\Users\\Administrator\\anaconda3\\Lib\\site-packages\\mlxtend\\frequent_patterns\\fpcommon.py:161: DeprecationWarning: DataFrames with non-bool types result in worse computationalperformance and their support might be discontinued in the future.Please use a DataFrame with bool type\n",
      "  warnings.warn(\n"
     ]
    },
    {
     "name": "stdout",
     "output_type": "stream",
     "text": [
      "\n",
      " frequent Itemsets=\n",
      "      support                                           itemsets\n",
      "0   0.761905                                        (Milk_Milk)\n",
      "1   0.714286                                      (Bread_Bread)\n",
      "2   0.714286                                        (Wine_Wine)\n",
      "3   0.666667                                    (Butter_Butter)\n",
      "4   0.666667                                      (Apple_Apple)\n",
      "..       ...                                                ...\n",
      "58  0.238095  (Bread_Bread, Chips_Chips, Butter_Butter, Milk...\n",
      "59  0.190476  (Apple_Apple, Chips_Chips, Wine_Wine, Bread_Br...\n",
      "60  0.190476  (Apple_Apple, Chips_Chips, Bread_Bread, Milk_M...\n",
      "61  0.190476  (Chips_Chips, Wine_Wine, Bread_Bread, Milk_Mil...\n",
      "62  0.142857  (Apple_Apple, Chips_Chips, Wine_Wine, Bread_Br...\n",
      "\n",
      "[63 rows x 2 columns]\n"
     ]
    }
   ],
   "source": [
    "frequent_itemsets = fpgrowth(encoded_data, min_support = 0.01, use_colnames = True)\n",
    "print(\"\\n frequent Itemsets=\\n\", frequent_itemsets)"
   ]
  },
  {
   "cell_type": "code",
   "execution_count": 19,
   "id": "867adf12",
   "metadata": {},
   "outputs": [
    {
     "name": "stdout",
     "output_type": "stream",
     "text": [
      "                                 antecedents  \\\n",
      "235               (Bread_Bread, Chips_Chips)   \n",
      "419    (Apple_Apple, Bread_Bread, Milk_Milk)   \n",
      "424  (Wine_Wine, Chips_Chips, Butter_Butter)   \n",
      "234             (Apple_Apple, Butter_Butter)   \n",
      "275  (Wine_Wine, Chips_Chips, Butter_Butter)   \n",
      "280               (Apple_Apple, Bread_Bread)   \n",
      "425    (Bread_Bread, Chips_Chips, Milk_Milk)   \n",
      "272  (Apple_Apple, Wine_Wine, Butter_Butter)   \n",
      "283               (Bread_Bread, Chips_Chips)   \n",
      "418  (Apple_Apple, Wine_Wine, Butter_Butter)   \n",
      "\n",
      "                                 consequents  antecedent support  \\\n",
      "235             (Apple_Apple, Butter_Butter)            0.380952   \n",
      "419  (Wine_Wine, Chips_Chips, Butter_Butter)            0.380952   \n",
      "424    (Apple_Apple, Bread_Bread, Milk_Milk)            0.238095   \n",
      "234               (Bread_Bread, Chips_Chips)            0.476190   \n",
      "275               (Apple_Apple, Bread_Bread)            0.238095   \n",
      "280  (Wine_Wine, Chips_Chips, Butter_Butter)            0.523810   \n",
      "425  (Apple_Apple, Wine_Wine, Butter_Butter)            0.285714   \n",
      "272               (Bread_Bread, Chips_Chips)            0.333333   \n",
      "283  (Apple_Apple, Wine_Wine, Butter_Butter)            0.380952   \n",
      "418    (Bread_Bread, Chips_Chips, Milk_Milk)            0.333333   \n",
      "\n",
      "     consequent support   support  confidence      lift  representativity  \\\n",
      "235            0.476190  0.285714    0.750000  1.575000               1.0   \n",
      "419            0.238095  0.142857    0.375000  1.575000               1.0   \n",
      "424            0.380952  0.142857    0.600000  1.575000               1.0   \n",
      "234            0.380952  0.285714    0.600000  1.575000               1.0   \n",
      "275            0.523810  0.190476    0.800000  1.527273               1.0   \n",
      "280            0.238095  0.190476    0.363636  1.527273               1.0   \n",
      "425            0.333333  0.142857    0.500000  1.500000               1.0   \n",
      "272            0.380952  0.190476    0.571429  1.500000               1.0   \n",
      "283            0.333333  0.190476    0.500000  1.500000               1.0   \n",
      "418            0.285714  0.142857    0.428571  1.500000               1.0   \n",
      "\n",
      "     leverage  conviction  zhangs_metric   jaccard  certainty  kulczynski  \n",
      "235  0.104308    2.095238       0.589744  0.500000   0.522727    0.675000  \n",
      "419  0.052154    1.219048       0.589744  0.300000   0.179688    0.487500  \n",
      "424  0.052154    1.547619       0.479167  0.300000   0.353846    0.487500  \n",
      "234  0.104308    1.547619       0.696970  0.500000   0.353846    0.675000  \n",
      "275  0.065760    2.380952       0.453125  0.333333   0.580000    0.581818  \n",
      "280  0.065760    1.197279       0.725000  0.333333   0.164773    0.581818  \n",
      "425  0.047619    1.333333       0.466667  0.300000   0.250000    0.464286  \n",
      "272  0.063492    1.444444       0.500000  0.363636   0.307692    0.535714  \n",
      "283  0.063492    1.333333       0.538462  0.363636   0.250000    0.535714  \n",
      "418  0.047619    1.250000       0.500000  0.300000   0.200000    0.464286  \n"
     ]
    }
   ],
   "source": [
    "rules = association_rules(frequent_itemsets, metric=\"lift\", min_threshold=1)\n",
    "print(rules.sort_values('lift', ascending=False).head(10))"
   ]
  },
  {
   "cell_type": "code",
   "execution_count": null,
   "id": "60b5dcda",
   "metadata": {},
   "outputs": [],
   "source": []
  }
 ],
 "metadata": {
  "kernelspec": {
   "display_name": "Python 3 (ipykernel)",
   "language": "python",
   "name": "python3"
  },
  "language_info": {
   "codemirror_mode": {
    "name": "ipython",
    "version": 3
   },
   "file_extension": ".py",
   "mimetype": "text/x-python",
   "name": "python",
   "nbconvert_exporter": "python",
   "pygments_lexer": "ipython3",
   "version": "3.11.4"
  }
 },
 "nbformat": 4,
 "nbformat_minor": 5
}
